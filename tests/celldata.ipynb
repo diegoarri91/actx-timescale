{
 "cells": [
  {
   "cell_type": "code",
   "execution_count": 2,
   "metadata": {},
   "outputs": [
    {
     "name": "stdout",
     "output_type": "stream",
     "text": [
      "The autoreload extension is already loaded. To reload it, use:\n",
      "  %reload_ext autoreload\n"
     ]
    }
   ],
   "source": [
    "import sys\n",
    "\n",
    "import numpy as np\n",
    "\n",
    "import mypd\n",
    "from spiketrain.sptr import SpikeTrains\n",
    "\n",
    "from actxanalysis.data.celldata import CellData\n",
    "from paths import *\n",
    "\n",
    "%load_ext autoreload\n",
    "%autoreload 2"
   ]
  },
  {
   "cell_type": "markdown",
   "metadata": {},
   "source": [
    "#### __init__"
   ]
  },
  {
   "cell_type": "code",
   "execution_count": 7,
   "metadata": {},
   "outputs": [
    {
     "data": {
      "text/plain": [
       "None"
      ]
     },
     "metadata": {},
     "output_type": "display_data"
    }
   ],
   "source": [
    "# neuron_folder = 'ACx_data_1/ACxThelo/20171114-d003-f004'\n",
    "# neuron_folder = 'ACx_data_1/ACxCalyx/20100428-001'\n",
    "# neuron_folder = 'ACx_data_3/ACxCalyx/clicks_data/20200717-xxx999-002-001'\n",
    "# neuron_folder = 'ACx_data_3/silence_data/ACxCalyx/20200718-xxx999-001-002'\n",
    "# neuron_folder = 'ACx_data_3/ACxCalyx/20200721-xxx999-002-002'\n",
    "neuron_folder = 'ACx_data_3/ACxThelo/20200708-xxx999-003-003'\n",
    "# neuron_folder = 'ACx_data_2/'\n",
    "\n",
    "cd = CellData(folder=data_folder + neuron_folder)\n",
    "\n",
    "display(cd.df)"
   ]
  },
  {
   "cell_type": "code",
   "execution_count": null,
   "metadata": {},
   "outputs": [],
   "source": []
  },
  {
   "cell_type": "code",
   "execution_count": 16,
   "metadata": {},
   "outputs": [
    {
     "data": {
      "text/plain": [
       "(tone       560\n",
       " fmsweep    108\n",
       " Name: type, dtype: int64,\n",
       " ['tone', 'fmsweep'],\n",
       " [560, 108])"
      ]
     },
     "execution_count": 16,
     "metadata": {},
     "output_type": "execute_result"
    }
   ],
   "source": [
    "type_counts = cd.df['type'].value_counts()\n",
    "type_counts, list(type_counts.index), list(type_counts.values)"
   ]
  },
  {
   "cell_type": "markdown",
   "metadata": {},
   "source": [
    "#### get_mask_spikes_trials"
   ]
  },
  {
   "cell_type": "code",
   "execution_count": 17,
   "metadata": {},
   "outputs": [
    {
     "data": {
      "text/plain": [
       "<AxesSubplot:>"
      ]
     },
     "execution_count": 17,
     "metadata": {},
     "output_type": "execute_result"
    },
    {
     "data": {
      "image/png": "[encoded data removed]",
      "text/plain": [
       "<Figure size 576x288 with 1 Axes>"
      ]
     },
     "metadata": {
      "needs_background": "light"
     },
     "output_type": "display_data"
    }
   ],
   "source": [
    "dic_stim = dict(type='fmsweep', speed=25, sweep_direction='up')\n",
    "\n",
    "t0, tf = -50, 300\n",
    "t = np.arange(t0, tf, cd.dt)\n",
    "mask_spikes_trials = cd.get_mask_spikes_trials(dic_stim, t0=-50, tf=300)\n",
    "st = SpikeTrains(t, mask_spikes_trials)\n",
    "st.plot(ms=10, mew=1)"
   ]
  },
  {
   "cell_type": "markdown",
   "metadata": {},
   "source": [
    "#### get_mask_spikes_stim"
   ]
  },
  {
   "cell_type": "code",
   "execution_count": 18,
   "metadata": {},
   "outputs": [
    {
     "data": {
      "text/plain": [
       "<AxesSubplot:>"
      ]
     },
     "execution_count": 18,
     "metadata": {},
     "output_type": "execute_result"
    },
    {
     "data": {
      "image/png": "[encoded data removed]",
      "text/plain": [
       "<Figure size 576x288 with 1 Axes>"
      ]
     },
     "metadata": {
      "needs_background": "light"
     },
     "output_type": "display_data"
    }
   ],
   "source": [
    "dic_stim = dict(type='fmsweep')\n",
    "\n",
    "t0, tf = -50, 300\n",
    "t = np.arange(t0, tf, cd.dt)\n",
    "stim_cats, mask_spikes_stim = cd.get_mask_spikes_stim(dic_stim, ['speed'], t0=t0, tf=tf)\n",
    "mask_spikes_stim = mask_spikes_stim.reshape(mask_spikes_stim.shape[0], -1)\n",
    "mask_spikes_stim = mask_spikes_stim[:, ~np.isnan(mask_spikes_stim[0, :])]\n",
    "st = SpikeTrains(t, mask_spikes_stim)\n",
    "st.plot(ms=3, mew=0, marker='o')"
   ]
  },
  {
   "cell_type": "markdown",
   "metadata": {},
   "source": [
    "#### get_stimdata"
   ]
  },
  {
   "cell_type": "code",
   "execution_count": 39,
   "metadata": {},
   "outputs": [
    {
     "data": {
      "text/plain": [
       "<AxesSubplot:>"
      ]
     },
     "execution_count": 39,
     "metadata": {},
     "output_type": "execute_result"
    },
    {
     "data": {
      "image/png": "[encoded data removed]",
      "text/plain": [
       "<Figure size 360x288 with 1 Axes>"
      ]
     },
     "metadata": {
      "needs_background": "light"
     },
     "output_type": "display_data"
    }
   ],
   "source": [
    "dic_stim = dict(type='fmsweep')\n",
    "\n",
    "t0, tf = -50, 300\n",
    "t = np.arange(t0, tf, cd.dt)\n",
    "stimdata = cd.get_stimdata(dic_stim, ['speed', 'speed_abs', 'sweep_direction', 'duration'], t0=t0, tf=tf)\n",
    "stimdata = stimdata.sort_values(['sweep_direction', 'speed_abs'], ascending=[False, True])\n",
    "\n",
    "stimdata.plot_raster(ms=5, mew=0, marker='.', col='speed')"
   ]
  },
  {
   "cell_type": "code",
   "execution_count": null,
   "metadata": {},
   "outputs": [],
   "source": [
    "dic_stim = dict(type='tone')\n",
    "\n",
    "t0, tf = -50, 600\n",
    "t = np.arange(t0, tf, cd.dt)\n",
    "stimdata = cd.get_stimdata(dic_stim, ['amplitude', 'frequency', 'duration'], t0=t0, tf=tf)\n",
    "# stimdata = stimdata.sort_values(['sweep_direction', 'speed_abs'], ascending=[False, True])\n",
    "\n",
    "stimdata.plot_raster(ms=5, mew=0, marker='.', col='amplitude')"
   ]
  },
  {
   "cell_type": "markdown",
   "metadata": {},
   "source": [
    "### get_mask_spikes_from_idx"
   ]
  },
  {
   "cell_type": "code",
   "execution_count": null,
   "metadata": {},
   "outputs": [],
   "source": [
    "cd.df['end_stimulus'] = cd.df['trigger'] + cd.df['duration']\n",
    "cd.df['next_trigger'] = np.append(cd.df.iloc[1:]['trigger'].values, float(cd.dt * cd.n_samples))\n",
    "cd.df['after_stimulus_period'] = cd.df['next_trigger'] - cd.df['end_stimulus']\n",
    "\n",
    "idx = list(cd.df[cd.df['after_stimulus_period'] > 1650].index)\n",
    "\n",
    "t0 = cd.df.loc[idx, 'duration'].max() + 50\n",
    "mask = cd.get_mask_spikes_from_idx(idx, t0=-300, tf=1800)\n",
    "\n",
    "SpikeTrain(np.arange(mask.shape[0]), mask).plot()"
   ]
  },
  {
   "cell_type": "code",
   "execution_count": null,
   "metadata": {},
   "outputs": [],
   "source": [
    "t0 = cd.df.loc[idx, 'duration'].max() + 50\n",
    "# cd.df.after_stimulus_period"
   ]
  },
  {
   "cell_type": "code",
   "execution_count": null,
   "metadata": {},
   "outputs": [],
   "source": [
    "cd.df['end_stimulus'] = cd.df['trigger'] + cd.df['duration']\n",
    "cd.df['next_trigger'] = np.append(cd.df.iloc[1:]['trigger'].values, float(cd.dt * cd.n_samples))\n",
    "cd.df['after_stimulus_period'] = cd.df['next_trigger'] - cd.df['end_stimulus']\n",
    "\n",
    "t_last_spk = cd.arg_spikes[-1, 0] * cd.dt\n",
    "\n",
    "idx = list(cd.df[(cd.df['after_stimulus_period'] > 1650) & (cd.df.trigger < t_last_spk)].index)\n",
    "\n",
    "t0 = cd.df.loc[idx, 'duration'].max() + 50\n",
    "mask = cd.get_mask_spikes_after_stimulus(idx)\n",
    "\n",
    "SpikeTrain(np.arange(mask.shape[0]), mask).plot()"
   ]
  },
  {
   "cell_type": "markdown",
   "metadata": {},
   "source": [
    "### get_mask_spikes_from_triggers"
   ]
  },
  {
   "cell_type": "code",
   "execution_count": null,
   "metadata": {},
   "outputs": [],
   "source": [
    "tf = cd.n_samples * cd.dt\n",
    "triggers = np.arange(0, tf, 1560)\n",
    "mask_spikes = cd.get_mask_spikes_from_triggers(triggers, t0=0, tf=1560)"
   ]
  }
 ],
 "metadata": {
  "kernelspec": {
   "display_name": "actx",
   "language": "python",
   "name": "actx"
  },
  "language_info": {
   "codemirror_mode": {
    "name": "ipython",
    "version": 3
   },
   "file_extension": ".py",
   "mimetype": "text/x-python",
   "name": "python",
   "nbconvert_exporter": "python",
   "pygments_lexer": "ipython3",
   "version": "3.8.5"
  }
 },
 "nbformat": 4,
 "nbformat_minor": 4
}
