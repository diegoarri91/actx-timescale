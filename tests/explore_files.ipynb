{
 "cells": [
  {
   "cell_type": "code",
   "execution_count": 10,
   "metadata": {},
   "outputs": [],
   "source": [
    "import os\n",
    "import sys\n",
    "\n",
    "import numpy as np\n",
    "import pandas as pd\n",
    "import scipy.io\n",
    "\n",
    "import mypd\n",
    "\n",
    "root_folder = '/home/diego/storage/projects/auditory-cortex/data/'"
   ]
  },
  {
   "cell_type": "code",
   "execution_count": 11,
   "metadata": {},
   "outputs": [],
   "source": [
    "# spikes_mat['param']['nsamples']"
   ]
  },
  {
   "cell_type": "code",
   "execution_count": 14,
   "metadata": {},
   "outputs": [],
   "source": [
    "neuron_folder = 'ACx_data_3/ACxCalyx/20200717-xxx999-002-001'\n",
    "# neuron_folder = 'ACx_data_3/ACxCalyx/20200718-xxx999-001-002'\n",
    "folder = root_folder + neuron_folder\n",
    "\n",
    "list_files = os.listdir(root_folder + neuron_folder)\n",
    "stim_file, spikes_file = None, None\n",
    "\n",
    "for f in list_files:\n",
    "    if 'stimuli' in f:\n",
    "        stim_file = f\n",
    "    elif 'tt_spikes' in f:\n",
    "        spikes_file = f\n",
    "    elif stim_file is not None and spikes_file is not None:\n",
    "        break\n",
    "\n",
    "stimuli_mat = scipy.io.loadmat(folder + '/' + stim_file)\n",
    "spikes_mat = scipy.io.loadmat(folder + '/' + spikes_file)\n",
    "\n",
    "arg_spikes = spikes_mat['timestamps']\n",
    "dt = 1 / int(spikes_mat['param']['samplerate'][0]) * 1000\n",
    "n_samples = spikes_mat['param']['nsamples']\n",
    "tf = float(n_samples * dt)\n",
    "\n",
    "if len(stimuli_mat['stimuli']) > 0:\n",
    "\n",
    "    stim_type = np.array([stimuli_mat['stimuli']['type'][ii][0][0] \\\n",
    "                          for ii in range(len(stimuli_mat['stimuli']['type']))])\n",
    "\n",
    "    stimlength = np.array([float(stimuli_mat['stimuli']['stimlength'][ii]) \\\n",
    "                           for ii in range(len(stimuli_mat['stimuli']['stimlength']))])\n",
    "\n",
    "    trigger = np.array([int(stimuli_mat['stimuli']['trigger'][ii]) \\\n",
    "                        for ii in range(len(stimuli_mat['stimuli']['trigger']))]) * dt\n",
    "\n",
    "    tone_params = ['amplitude', 'ramp', 'frequency']\n",
    "    sweep_params = ['start_frequency', 'stop_frequency', 'speed', 'method', 'next']\n",
    "    pulse_params = ['start', 'width', 'height', 'npulses', 'isi']\n",
    "    #         wn_params = ['amplitude', 'duration', 'ramp']\n",
    "    click_params = ['clickduration', 'nclicks']\n",
    "\n",
    "    df = pd.DataFrame(np.stack((stim_type, trigger, stimlength), axis=1), \n",
    "                           columns=['type', 'trigger', 'duration'])\n",
    "    df['trigger'] = df['trigger'].astype(float)\n",
    "\n",
    "    for col in tone_params + sweep_params + pulse_params + click_params:\n",
    "        df[col] = np.nan\n",
    "    #         display(self.df)\n",
    "    for ii, idx in enumerate(df.index):\n",
    "        cols = list(stimuli_mat['stimuli'][ii][0][1].dtype.fields.keys())\n",
    "        cols.remove('duration')\n",
    "        vals = [stimuli_mat['stimuli'][ii][0][1][f][0][0][0][0] for f in cols]\n",
    "        df.loc[idx, cols] = vals\n",
    "    df['method'] = df['method'].astype(str)\n",
    "    df.loc[df['method'] == 'l', 'method'] = 'logarithmic'\n",
    "\n",
    "    df['speed'] =  df['speed'].abs()\n",
    "    df['sweep_direction'] = df['stop_frequency'] - df['start_frequency']\n",
    "    df['sweep_direction'] = df['sweep_direction'].map(lambda x: 'up' if x > 0 else 'down' if x < 0 else 'NaN')\n",
    "\n",
    "    df['speed_abs'] = df['speed'].abs().copy()\n",
    "    df['speed'] = df['speed'] * df['sweep_direction'].map(dict(up=1, down=-1))\n",
    "    df[['speed', 'speed_abs']] = mypd.float_to_int(df.copy(), columns=['speed', 'speed_abs'])\n",
    "    df['duration'] = df['duration'].astype(float)"
   ]
  },
  {
   "cell_type": "code",
   "execution_count": 15,
   "metadata": {},
   "outputs": [],
   "source": [
    "df.loc[df['method'] == 'l', 'method'] = 'logarithmic'"
   ]
  },
  {
   "cell_type": "code",
   "execution_count": 16,
   "metadata": {},
   "outputs": [
    {
     "data": {
      "text/plain": [
       "array([[(array([[10]], dtype=uint8), array([[5]], dtype=uint8), array([[69]], dtype=uint8), array([[102]], dtype=uint8), array([[0]], dtype=uint8), array([[5]], dtype=uint8), array([[1]], dtype=uint8), array([[3000]], dtype=uint16))]],\n",
       "      dtype=[('nclicks', 'O'), ('clickduration', 'O'), ('isi', 'O'), ('amplitude', 'O'), ('start', 'O'), ('duration', 'O'), ('ramp', 'O'), ('next', 'O')])"
      ]
     },
     "execution_count": 16,
     "metadata": {},
     "output_type": "execute_result"
    }
   ],
   "source": [
    "stimuli_mat['stimuli'][0][0][1]#['']"
   ]
  },
  {
   "cell_type": "code",
   "execution_count": 19,
   "metadata": {},
   "outputs": [],
   "source": [
    "df['end_stimulus'] = df['trigger'] + df['duration']\n",
    "df['next_trigger'] = np.append(df.iloc[1:]['trigger'].values, tf)\n",
    "df['after_stimulus_period'] = df['next_trigger'] - df['end_stimulus']"
   ]
  },
  {
   "cell_type": "code",
   "execution_count": 20,
   "metadata": {},
   "outputs": [
    {
     "data": {
      "text/plain": [
       "count     116.000000\n",
       "mean     2077.971552\n",
       "std       774.334827\n",
       "min       851.100000\n",
       "25%      1700.100000\n",
       "50%      2103.550000\n",
       "75%      2650.325000\n",
       "max      2867.200000\n",
       "Name: after_stimulus_period, dtype: float64"
      ]
     },
     "execution_count": 20,
     "metadata": {},
     "output_type": "execute_result"
    }
   ],
   "source": [
    "df['after_stimulus_period'].describe()"
   ]
  },
  {
   "cell_type": "code",
   "execution_count": null,
   "metadata": {},
   "outputs": [],
   "source": []
  },
  {
   "cell_type": "code",
   "execution_count": null,
   "metadata": {},
   "outputs": [],
   "source": []
  }
 ],
 "metadata": {
  "kernelspec": {
   "display_name": "actx",
   "language": "python",
   "name": "actx"
  },
  "language_info": {
   "codemirror_mode": {
    "name": "ipython",
    "version": 3
   },
   "file_extension": ".py",
   "mimetype": "text/x-python",
   "name": "python",
   "nbconvert_exporter": "python",
   "pygments_lexer": "ipython3",
   "version": "3.8.5"
  }
 },
 "nbformat": 4,
 "nbformat_minor": 4
}
