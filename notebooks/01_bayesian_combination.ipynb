{
 "cells": [
  {
   "cell_type": "code",
   "execution_count": 1,
   "metadata": {
    "execution": {
     "iopub.execute_input": "2022-05-19T21:18:29.514162Z",
     "iopub.status.busy": "2022-05-19T21:18:29.513736Z",
     "iopub.status.idle": "2022-05-19T21:18:31.020017Z",
     "shell.execute_reply": "2022-05-19T21:18:31.019183Z",
     "shell.execute_reply.started": "2022-05-19T21:18:29.514085Z"
    },
    "tags": []
   },
   "outputs": [],
   "source": [
    "import matplotlib as mpl\n",
    "import matplotlib.pyplot as plt\n",
    "import numpy as np\n",
    "import pandas as pd\n",
    "from scipy.stats import norm\n",
    "from scipy.special import erf\n",
    "import seaborn as sns\n",
    "\n",
    "from actxtimescale.bayes_integration import *\n",
    "from actxtimescale.constants import DATAFRAMES_FOLDER, USED_FILES\n",
    "from actxtimescale.funs import bias_variance\n",
    "from actxtimescale.plot import myerrorbar, plot_posteriors, set_labels\n",
    "\n",
    "%load_ext autoreload\n",
    "%autoreload 2"
   ]
  },
  {
   "cell_type": "code",
   "execution_count": 2,
   "metadata": {
    "execution": {
     "iopub.execute_input": "2022-05-19T21:18:31.021520Z",
     "iopub.status.busy": "2022-05-19T21:18:31.021130Z",
     "iopub.status.idle": "2022-05-19T21:18:31.057814Z",
     "shell.execute_reply": "2022-05-19T21:18:31.056991Z",
     "shell.execute_reply.started": "2022-05-19T21:18:31.021497Z"
    },
    "tags": []
   },
   "outputs": [],
   "source": [
    "tick_labelsize = 16\n",
    "view = {'figure.figsize': (5, 5),  'axes.titlesize': 18, 'axes.labelsize': 18, 'lines.linewidth': 2, 'lines.markersize': 6,\n",
    "         'xtick.labelsize': tick_labelsize, 'xtick.major.size': 2.5, 'xtick.major.pad': 2, \n",
    "         'ytick.labelsize': tick_labelsize, 'ytick.major.size': 2.5, 'ytick.major.pad': 2,\n",
    "         'errorbar.capsize': 5, 'axes.labelpad': 0,\n",
    "         'legend.fontsize': 14, 'axes.spines.top': False, 'axes.spines.right': False,\n",
    "         'boxplot.flierprops.markersize': 2}\n",
    "\n",
    "for key, val in view.items():\n",
    "    mpl.rcParams[key] = val\n",
    "mpl.rcParams['svg.fonttype'] = 'none'"
   ]
  },
  {
   "cell_type": "code",
   "execution_count": 3,
   "metadata": {
    "execution": {
     "iopub.execute_input": "2022-05-19T21:18:31.060829Z",
     "iopub.status.busy": "2022-05-19T21:18:31.060466Z",
     "iopub.status.idle": "2022-05-19T21:18:31.096396Z",
     "shell.execute_reply": "2022-05-19T21:18:31.095671Z",
     "shell.execute_reply.started": "2022-05-19T21:18:31.060804Z"
    },
    "tags": []
   },
   "outputs": [],
   "source": [
    "t0bin, tfbin, dtbin, biased = 100, 1640, 20, 0\n",
    "tf_autocorr = 760\n",
    "\n",
    "fit_offset, shared_hem_tau = False, False"
   ]
  },
  {
   "cell_type": "code",
   "execution_count": 4,
   "metadata": {
    "execution": {
     "iopub.execute_input": "2022-05-19T21:18:31.097958Z",
     "iopub.status.busy": "2022-05-19T21:18:31.097693Z",
     "iopub.status.idle": "2022-05-19T21:18:31.154160Z",
     "shell.execute_reply": "2022-05-19T21:18:31.153514Z",
     "shell.execute_reply.started": "2022-05-19T21:18:31.097934Z"
    },
    "tags": []
   },
   "outputs": [],
   "source": [
    "df_tau = pd.read_json(DATAFRAMES_FOLDER + 'df_tau_bias_variance_final.json')"
   ]
  },
  {
   "cell_type": "code",
   "execution_count": 5,
   "metadata": {
    "execution": {
     "iopub.execute_input": "2022-05-19T21:18:31.155572Z",
     "iopub.status.busy": "2022-05-19T21:18:31.154930Z",
     "iopub.status.idle": "2022-05-19T21:18:31.201139Z",
     "shell.execute_reply": "2022-05-19T21:18:31.200529Z",
     "shell.execute_reply.started": "2022-05-19T21:18:31.155550Z"
    },
    "tags": []
   },
   "outputs": [
    {
     "name": "stdout",
     "output_type": "stream",
     "text": [
      "right ACx    23\n",
      "left ACx     22\n",
      "Name: hemisphere, dtype: int64\n",
      "FINAL NUMBER OF NEURONS IS  45\n"
     ]
    }
   ],
   "source": [
    "df = df_tau.loc[(df_tau.t0bin == t0bin) & (df_tau.tfbin == tfbin) & (df_tau.dtbin == dtbin) & (df_tau.biased == biased) & \\\n",
    "                (df_tau.tf_autocorr == tf_autocorr) & (df_tau.fit_offset == fit_offset) & (df_tau.shared_hem_tau == shared_hem_tau)].copy()\n",
    "\n",
    "df = df.sort_values(['hemisphere', 'logtau_corrected'], ascending=True)\n",
    "\n",
    "df = df[df.index.isin(USED_FILES)]\n",
    "\n",
    "print(df.hemisphere.value_counts())\n",
    "\n",
    "print('FINAL NUMBER OF NEURONS IS ', len(df))\n",
    "\n",
    "df['sd_logtau'] = np.sqrt(df['var_logtau'])\n",
    "df['mean_fr'] = df['mean_spikes'] / (df['tfbin'] - df['t0bin']) * 1000\n",
    "df['sd_fr'] = df['sd_spikes'] / (df['tfbin'] - df['t0bin']) * 1000\n",
    "df['se_fr'] = df['sd_fr'] / np.sqrt(df['n_trials'])\n",
    "\n",
    "df['log10tau_corrected'] = df['logtau_corrected'] / np.log(10)\n",
    "df['sd_log10tau'] = df['sd_logtau'] / np.log(10)"
   ]
  },
  {
   "cell_type": "code",
   "execution_count": 6,
   "metadata": {
    "execution": {
     "iopub.execute_input": "2022-05-19T21:18:31.202642Z",
     "iopub.status.busy": "2022-05-19T21:18:31.202201Z",
     "iopub.status.idle": "2022-05-19T21:18:31.245014Z",
     "shell.execute_reply": "2022-05-19T21:18:31.244238Z",
     "shell.execute_reply.started": "2022-05-19T21:18:31.202617Z"
    },
    "tags": []
   },
   "outputs": [
    {
     "data": {
      "text/plain": [
       "['ACx_data_1/ACxCalyx/20080930-002',\n",
       " 'ACx_data_1/ACxCalyx/20081104-002',\n",
       " 'ACx_data_1/ACxCalyx/20100428-001',\n",
       " 'ACx_data_1/ACxCalyx/20170903-001-017',\n",
       " 'ACx_data_1/ACxCalyx/20170903-001-019',\n",
       " 'ACx_data_1/ACxCalyx/20170909-007_file001',\n",
       " 'ACx_data_1/ACxCalyx/20170909-010',\n",
       " 'ACx_data_1/ACxCalyx/20190904-001-016',\n",
       " 'ACx_data_1/ACxCalyx/20191010-005',\n",
       " 'ACx_data_1/ACxCalyx/20200107-009-003',\n",
       " 'ACx_data_1/ACxCalyx/20200108-008-002',\n",
       " 'ACx_data_1/ACxThelo/20171114-d003-f004',\n",
       " 'ACx_data_1/ACxThelo/20171204-f010',\n",
       " 'ACx_data_1/ACxThelo/20171205-f002',\n",
       " 'ACx_data_1/ACxThelo/20171205-f007',\n",
       " 'ACx_data_1/ACxThelo/20171208-f015',\n",
       " 'ACx_data_1/ACxThelo/20171208-f016',\n",
       " 'ACx_data_1/ACxThelo/20180219-f014',\n",
       " 'ACx_data_1/ACxThelo/20180219-f017',\n",
       " 'ACx_data_1/ACxThelo/20180309-f005',\n",
       " 'ACx_data_1/ACxThelo/20180322-f006',\n",
       " 'ACx_data_2/ACxCalyx/20190918-xxx999-001-004',\n",
       " 'ACx_data_2/ACxThelo/20171120-f003',\n",
       " 'ACx_data_2/ACxThelo/20171208-f011',\n",
       " 'ACx_data_2/ACxThelo/20171208-f018',\n",
       " 'ACx_data_2/ACxThelo/20200116-xxx999-005',\n",
       " 'ACx_data_3/ACxCalyx/20200717-xxx999-002-001',\n",
       " 'ACx_data_3/ACxCalyx/20200718-xxx999-001-001',\n",
       " 'ACx_data_3/ACxCalyx/20200718-xxx999-001-002',\n",
       " 'ACx_data_3/ACxCalyx/20200720-xxx999-001-001',\n",
       " 'ACx_data_3/ACxCalyx/20200720-xxx999-001-002',\n",
       " 'ACx_data_3/ACxCalyx/20200720-xxx999-005-003',\n",
       " 'ACx_data_3/ACxCalyx/20200721-xxx999-001-001',\n",
       " 'ACx_data_3/ACxCalyx/20200721-xxx999-001-002',\n",
       " 'ACx_data_3/ACxCalyx/20200721-xxx999-002-001',\n",
       " 'ACx_data_3/ACxCalyx/20200721-xxx999-002-002',\n",
       " 'ACx_data_3/ACxThelo/20171205f009',\n",
       " 'ACx_data_3/ACxThelo/20180219f012',\n",
       " 'ACx_data_3/ACxThelo/20180219f016',\n",
       " 'ACx_data_3/ACxThelo/20180301f006',\n",
       " 'ACx_data_3/ACxThelo/20180322f012',\n",
       " 'ACx_data_3/ACxThelo/20180329f005',\n",
       " 'ACx_data_3/ACxThelo/20200115-xxx999-004-001',\n",
       " 'ACx_data_3/ACxThelo/20200708-xxx999-003-003',\n",
       " 'ACx_data_3/ACxThelo/20200710-xxx999-004-002']"
      ]
     },
     "execution_count": 6,
     "metadata": {},
     "output_type": "execute_result"
    }
   ],
   "source": [
    "sorted(df.index.tolist())"
   ]
  },
  {
   "cell_type": "markdown",
   "metadata": {},
   "source": [
    "### fr vs tau"
   ]
  },
  {
   "cell_type": "code",
   "execution_count": 7,
   "metadata": {
    "execution": {
     "iopub.execute_input": "2022-05-19T21:18:31.246681Z",
     "iopub.status.busy": "2022-05-19T21:18:31.246096Z",
     "iopub.status.idle": "2022-05-19T21:18:32.161797Z",
     "shell.execute_reply": "2022-05-19T21:18:32.161300Z",
     "shell.execute_reply.started": "2022-05-19T21:18:31.246655Z"
    },
    "tags": []
   },
   "outputs": [
    {
     "data": {
      "image/png": "[encoded data removed]",
      "text/plain": [
       "<Figure size 432x288 with 1 Axes>"
      ]
     },
     "metadata": {
      "needs_background": "light"
     },
     "output_type": "display_data"
    }
   ],
   "source": [
    "from matplotlib.ticker import FixedLocator\n",
    "\n",
    "fig, ax1 = plt.subplots()\n",
    "\n",
    "df['alpha'] = 1 - ((df['sd_log10tau'] - df['sd_log10tau'].min()) / (df['sd_log10tau'].max() - df['sd_log10tau'].min()))**0.2 + 0.15\n",
    "df.loc[df['alpha'] > 1, 'alpha'] = 1\n",
    "myerrorbar(x='mean_fr', y='log10tau_corrected', hue='hemisphere', xerr='se_fr', yerr='sd_log10tau', alpha='alpha', \n",
    "                                         data=df, ax=ax1, fmt='o')\n",
    "\n",
    "# ax1.set_xlim(0, 11)\n",
    "ax1.set_xscale('log')\n",
    "ax1.grid(True, which='major')\n",
    "\n",
    "ax1.set_yticks(ax1.get_yticks()[1:-1])\n",
    "\n",
    "ax1.set_yticklabels([r\"$10^{}$\".format(str(int(yl))) for yl in ax1.get_yticks()])\n",
    "\n",
    "set_labels(ax1, xlabel='firing rate (Hz)', ylabel='time constant (ms)')\n",
    "sns.despine(top=False, right=False)"
   ]
  },
  {
   "cell_type": "code",
   "execution_count": 8,
   "metadata": {
    "execution": {
     "iopub.execute_input": "2022-05-19T21:18:32.163511Z",
     "iopub.status.busy": "2022-05-19T21:18:32.163185Z",
     "iopub.status.idle": "2022-05-19T21:18:32.203031Z",
     "shell.execute_reply": "2022-05-19T21:18:32.202394Z",
     "shell.execute_reply.started": "2022-05-19T21:18:32.163493Z"
    }
   },
   "outputs": [
    {
     "data": {
      "text/plain": [
       "(hemisphere\n",
       " left ACx     16657.250955\n",
       " right ACx    68875.207362\n",
       " Name: tau_est, dtype: float64,\n",
       " hemisphere\n",
       " left ACx      45818.176778\n",
       " right ACx    183313.564656\n",
       " Name: tau_est, dtype: float64)"
      ]
     },
     "execution_count": 8,
     "metadata": {},
     "output_type": "execute_result"
    }
   ],
   "source": [
    "df.groupby('hemisphere')['tau_est'].mean(), df.groupby('hemisphere')['tau_est'].std()"
   ]
  },
  {
   "cell_type": "markdown",
   "metadata": {},
   "source": [
    "## posterior distributions"
   ]
  },
  {
   "cell_type": "code",
   "execution_count": 9,
   "metadata": {
    "execution": {
     "iopub.execute_input": "2022-05-19T21:18:32.204525Z",
     "iopub.status.busy": "2022-05-19T21:18:32.204044Z",
     "iopub.status.idle": "2022-05-19T21:18:32.389470Z",
     "shell.execute_reply": "2022-05-19T21:18:32.388604Z",
     "shell.execute_reply.started": "2022-05-19T21:18:32.204501Z"
    },
    "tags": []
   },
   "outputs": [
    {
     "name": "stdout",
     "output_type": "stream",
     "text": [
      "quantiles [0.025, 0.975] [66.02279096 99.48431564]\n",
      "mean, sd 82.46512294852094 8.81423598135611\n",
      "quantiles [0.025, 0.975] [113.29556235 138.37951234]\n",
      "mean, sd 126.32788711938562 6.670816399575955\n",
      "log_marginal_likelihood, bayes factor, log10 bayrs factor -132.5541402076025 0.0020193882948421854 -2.6947801654082753\n"
     ]
    },
    {
     "data": {
      "image/png": "[encoded data removed]",
      "text/plain": [
       "<Figure size 432x432 with 2 Axes>"
      ]
     },
     "metadata": {
      "needs_background": "light"
     },
     "output_type": "display_data"
    }
   ],
   "source": [
    "log, xlim = False, (0, 300)\n",
    "# log, xlim = True, (0, 10)\n",
    "\n",
    "fig, axs = plt.subplots(figsize=(6, 6), nrows=2, ncols=1, sharex=True, sharey=False)\n",
    "fig.subplots_adjust(hspace=0.1)\n",
    "lw = 0.4\n",
    "\n",
    "logtau = np.arange(-5, 30, 1e-2)\n",
    "tau = np.exp(logtau)\n",
    "\n",
    "gaussian_mean = False\n",
    "        \n",
    "# plot_posteriors(axs, df, logtau, gaussian_mean=False, log=log, xlim=xlim, observations=True)\n",
    "plot_posteriors(axs, df, logtau, gaussian_mean=gaussian_mean, log=False, xlim=(40, 160), observations=False)\n",
    "\n",
    "for ax in axs:\n",
    "    ax.set_ylabel('pdf')\n",
    "    ax.set_yticks([])\n",
    "\n",
    "xlabel = 'time constant (ms)' if not(log) else 'time constant (ms) (log)'\n",
    "axs[1].set_xlabel(xlabel)\n",
    "\n",
    "lml2 = log_marginal_likelihood(df, logtau, gaussian_mean=gaussian_mean)\n",
    "lml1 = log_marginal_likelihood_single_model(df, logtau, gaussian_mean=gaussian_mean)\n",
    "bayes_factor = 10**(lml1 - lml2)\n",
    "log10_bf = (lml1 - lml2)\n",
    "\n",
    "print('log_marginal_likelihood, bayes factor, log10 bayrs factor', lml2, bayes_factor, log10_bf)"
   ]
  }
 ],
 "metadata": {
  "kernelspec": {
   "display_name": "Python [conda env:actx-timescales]",
   "language": "python",
   "name": "conda-env-actx-timescales-py"
  },
  "language_info": {
   "codemirror_mode": {
    "name": "ipython",
    "version": 3
   },
   "file_extension": ".py",
   "mimetype": "text/x-python",
   "name": "python",
   "nbconvert_exporter": "python",
   "pygments_lexer": "ipython3",
   "version": "3.10.4"
  }
 },
 "nbformat": 4,
 "nbformat_minor": 4
}
